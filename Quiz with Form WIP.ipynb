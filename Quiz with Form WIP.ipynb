{
 "cells": [
  {
   "cell_type": "code",
   "execution_count": 1,
   "id": "fb70488f",
   "metadata": {},
   "outputs": [
    {
     "data": {
      "application/vnd.jupyter.widget-view+json": {
       "model_id": "2ee061dfd970499583c46234d2695d13",
       "version_major": 2,
       "version_minor": 0
      },
      "text/plain": [
       "Button(description='Go', style=ButtonStyle())"
      ]
     },
     "metadata": {},
     "output_type": "display_data"
    }
   ],
   "source": [
    "import guidance\n",
    "from create_quiz import template as create_quiz_template\n",
    "from ipywidgets import Button, Output\n",
    "\n",
    "gpt = guidance.llms.OpenAI(\"gpt-3.5-turbo\")\n",
    "create_quiz = guidance(create_quiz_template, gpt)\n",
    "\n",
    "def on_button_clicked(_b):\n",
    "    quiz_variables = {\n",
    "        \"topic\": \"Recognize most common birds of Madison, WI\",\n",
    "        \"num_learning_objectives\": 3,\n",
    "        \"num_questions\": 2,\n",
    "        \"points_per_question\": 5,\n",
    "    }\n",
    "    q = create_quiz(**quiz_variables)\n",
    "    display(q)\n",
    "\n",
    "bn = Button(description=\"Go\")\n",
    "bn.on_click(on_button_clicked)\n",
    "display(bn)"
   ]
  },
  {
   "cell_type": "code",
   "execution_count": null,
   "id": "27bcf2d0",
   "metadata": {},
   "outputs": [],
   "source": []
  }
 ],
 "metadata": {
  "kernelspec": {
   "display_name": "Python 3 (ipykernel)",
   "language": "python",
   "name": "python3"
  },
  "language_info": {
   "codemirror_mode": {
    "name": "ipython",
    "version": 3
   },
   "file_extension": ".py",
   "mimetype": "text/x-python",
   "name": "python",
   "nbconvert_exporter": "python",
   "pygments_lexer": "ipython3",
   "version": "3.10.11"
  }
 },
 "nbformat": 4,
 "nbformat_minor": 5
}
